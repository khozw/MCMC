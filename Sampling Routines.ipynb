{
  "nbformat": 4,
  "nbformat_minor": 0,
  "metadata": {
    "colab": {
      "provenance": []
    },
    "kernelspec": {
      "name": "python3",
      "display_name": "Python 3"
    },
    "language_info": {
      "name": "python"
    }
  },
  "cells": [
    {
      "cell_type": "markdown",
      "source": [
        "#### Accept - Reject Algorithm"
      ],
      "metadata": {
        "id": "IVFKZxpszpFp"
      }
    },
    {
      "cell_type": "code",
      "execution_count": null,
      "metadata": {
        "id": "RyL1HY8hzdIz"
      },
      "outputs": [],
      "source": [
        "def acceptreject(p,q, sample_q, n_iter):\n",
        "    \"\"\"Samples from a target distribution p using the proposal distribution q via a accept-reject scheme\"\"\"\n",
        "    samples = np.array([])\n",
        "    for n in range(n_iter):\n",
        "        x_new = sample_q()    # Generate a new sample from q(x)\n",
        "        r = p(x_new) / q(x_new)    # Acceptance ratio\n",
        "        if r > 1:\n",
        "            # Stop algorithm if acceptance ratio exceeds one\n",
        "            print(\"ERROR: Acceptance ratio is greater than one at x = \" + str(x_new))\n",
        "            break;\n",
        "        if uniform.rvs(0, 1) < r:\n",
        "            samples = np.append(samples,x_new)\n",
        "    return samples"
      ]
    },
    {
      "cell_type": "markdown",
      "source": [
        "#### Importance Sampling"
      ],
      "metadata": {
        "id": "OAmFUnOqzyMM"
      }
    },
    {
      "cell_type": "code",
      "source": [
        "def importance_sampler(f, p, q, num_samples):\n",
        "     \"\"\"Importance sampling routine that estimates the integral of f(x)p(x) using N samples from q(x)\"\"\"\n",
        "    xi = samples(num_samples)\n",
        "    fi = f(xi)\n",
        "    wi = p(xi)/q(xi)    # Importance weights\n",
        "    mu = np.sum(fi*wi)/N    # Estimate of integral\n",
        "    var_mu = np.var(fi*wi)/N    # Variance of estimate\n",
        "    stderr = np.sqrt(var_mu)    # Standard error\n",
        "    return {\"mu\": mu, \"stderr\": stderr}"
      ],
      "metadata": {
        "id": "wKTk9GlU0snh"
      },
      "execution_count": null,
      "outputs": []
    },
    {
      "cell_type": "markdown",
      "source": [
        "#### Metropolis Hastings"
      ],
      "metadata": {
        "id": "Sb_bsPnmzx8i"
      }
    },
    {
      "cell_type": "code",
      "source": [
        "def metropolis_hastings(p, q, sample_q, param_init, num_samples):\n",
        "    \"\"\"Metropolis-Hastings algorithm that generates samples from a target distribution p\n",
        "    and using a proposal kernel q\"\"\"\n",
        "    samples = np.zeros((num_samples, len(param_init)))\n",
        "    samples[0] = param_init\n",
        "\n",
        "    for n in range(num_samples-1):\n",
        "\n",
        "        x_current = samples[n]\n",
        "        x_proposed = sample_q(x_current)\n",
        "\n",
        "        # Metropolis (acceptance) ratio\n",
        "        r_num = q(x_proposed, x_current) * p(x_proposed)\n",
        "        r_denom = q(x_current, x_proposed) * p(x_current)\n",
        "        r = r_num / r_denom\n",
        "\n",
        "        # Decide whether to accept the proposed move with probability min(1,r)\n",
        "        if r >= 1:\n",
        "            x_next = x_proposed\n",
        "        elif uniform.rvs(0, 1) < r:\n",
        "            x_next = x_proposed\n",
        "        else:\n",
        "            x_next = x_current\n",
        "\n",
        "        samples[n+1] = x_next    # Store the new sample\n",
        "\n",
        "    return samples"
      ],
      "metadata": {
        "id": "8H_GvTc9z8sb"
      },
      "execution_count": null,
      "outputs": []
    },
    {
      "cell_type": "markdown",
      "source": [
        "#### Gibbs Sampler (in 2D)"
      ],
      "metadata": {
        "id": "DXSIHD3Uz9rd"
      }
    },
    {
      "cell_type": "code",
      "source": [
        "def gibbs_sampler_2D(sample_x, sample_y, param_init, num_samples):\n",
        "    \"\"\"Gibbs sampler that generates samples from a 2D distribution using the\n",
        "    conditional distributions P(x|y) = sample_x and P(y|x) = sample_y\"\"\"\n",
        "    samples = np.zeros((num_samples, len(param_init)))\n",
        "    samples[0] = param_init\n",
        "\n",
        "    for n in range(num_samples-1):\n",
        "        samples[n+1][0] = sample_x(samples[n][1])    # Update x\n",
        "        samples[n+1][1] = sample_y(samples[n+1][0])    # Update y\n",
        "\n",
        "    return samples"
      ],
      "metadata": {
        "id": "_ngBdCd_0On8"
      },
      "execution_count": null,
      "outputs": []
    },
    {
      "cell_type": "markdown",
      "source": [
        "#### Miscellaneous"
      ],
      "metadata": {
        "id": "edNNWw_h08gN"
      }
    },
    {
      "cell_type": "code",
      "source": [
        "def num_bins(x):\n",
        "    \"\"\"Selects number of histogram bins selected according to the Freedman–Diaconis rule\"\"\"\n",
        "    N = len(x)\n",
        "    bin_width = 2*iqr(x)/(N)**(1/3)\n",
        "    n_bins = int((np.max(x) - np.min(x))/bin_width)\n",
        "    return n_bins"
      ],
      "metadata": {
        "id": "j9mxpnRJ0-4l"
      },
      "execution_count": null,
      "outputs": []
    },
    {
      "cell_type": "code",
      "source": [
        "def MCMC_stats(x):\n",
        "    \"\"\"Returns E[x] along with MCSE and ESS estimates\"\"\"\n",
        "    mean = np.mean(x)    # E[x]\n",
        "    rho = acf(x, nlags = 100)    # Autocorrelation of the chain from t = 0 to t = 100\n",
        "    rho = rho[:np.argmax(rho<0)]    # Truncate at first negative\n",
        "    N_eff = len(x)/(2*np.sum(rho)-1)    # Effect sample size\n",
        "    mcse = np.std(x)/np.sqrt(N_eff)    # Monte Carlo Standard Error\n",
        "    print(\"ESS: \", N_eff)\n",
        "    print(\"Mean: \", mean)\n",
        "    print(\"MCSE: \", mcse)"
      ],
      "metadata": {
        "id": "IA5vNWm81KbV"
      },
      "execution_count": null,
      "outputs": []
    }
  ]
}